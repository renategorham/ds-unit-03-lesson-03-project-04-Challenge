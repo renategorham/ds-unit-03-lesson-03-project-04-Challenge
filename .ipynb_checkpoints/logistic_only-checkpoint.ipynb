{
 "cells": [
  {
   "cell_type": "code",
   "execution_count": 1,
   "metadata": {},
   "outputs": [],
   "source": [
    "import pandas as pd\n",
    "import lib.train_test as tt\n",
    "import lib.read_csv_to_dict as read\n",
    "from statsmodels.formula.api import logit"
   ]
  },
  {
   "cell_type": "code",
   "execution_count": 2,
   "metadata": {},
   "outputs": [],
   "source": [
    "a = read.csv_to_dict('./data/wdbc.csv')"
   ]
  },
  {
   "cell_type": "code",
   "execution_count": 3,
   "metadata": {},
   "outputs": [],
   "source": [
    "train, test = tt.train_test(a, 'diagnosis', 0.5)"
   ]
  },
  {
   "cell_type": "code",
   "execution_count": 4,
   "metadata": {},
   "outputs": [],
   "source": [
    "cols1 = train.columns.drop('diagnosis')\n",
    "cols2 = test.columns.drop('diagnosis')\n",
    "train[cols1] = train[cols1].apply(pd.to_numeric, errors='coerce')\n",
    "test[cols2] = test[cols2].apply(pd.to_numeric, errors='coerce')"
   ]
  },
  {
   "cell_type": "code",
   "execution_count": 5,
   "metadata": {},
   "outputs": [
    {
     "name": "stdout",
     "output_type": "stream",
     "text": [
      "Optimization terminated successfully.\n",
      "         Current function value: 0.116288\n",
      "         Iterations 11\n"
     ]
    }
   ],
   "source": [
    "plain = logit('coded ~ mean_radius + mean_texture + mean_perimeter'\n",
    "              '+ mean_area + mean_smoothness + mean_compactness'\n",
    "              '+ mean_concavity + mean_concave_points + mean_symmetry'\n",
    "              '+ mean_fractal_dimension', train.drop('diagnosis', axis=1)).fit()"
   ]
  },
  {
   "cell_type": "code",
   "execution_count": 6,
   "metadata": {},
   "outputs": [
    {
     "data": {
      "text/html": [
       "<table class=\"simpletable\">\n",
       "<caption>Logit Regression Results</caption>\n",
       "<tr>\n",
       "  <th>Dep. Variable:</th>       <td>coded</td>      <th>  No. Observations:  </th>  <td>   285</td>  \n",
       "</tr>\n",
       "<tr>\n",
       "  <th>Model:</th>               <td>Logit</td>      <th>  Df Residuals:      </th>  <td>   274</td>  \n",
       "</tr>\n",
       "<tr>\n",
       "  <th>Method:</th>               <td>MLE</td>       <th>  Df Model:          </th>  <td>    10</td>  \n",
       "</tr>\n",
       "<tr>\n",
       "  <th>Date:</th>          <td>Fri, 19 Oct 2018</td> <th>  Pseudo R-squ.:     </th>  <td>0.8289</td>  \n",
       "</tr>\n",
       "<tr>\n",
       "  <th>Time:</th>              <td>12:46:28</td>     <th>  Log-Likelihood:    </th> <td> -33.142</td> \n",
       "</tr>\n",
       "<tr>\n",
       "  <th>converged:</th>           <td>True</td>       <th>  LL-Null:           </th> <td> -193.65</td> \n",
       "</tr>\n",
       "<tr>\n",
       "  <th> </th>                      <td> </td>        <th>  LLR p-value:       </th> <td>5.539e-63</td>\n",
       "</tr>\n",
       "</table>\n",
       "<table class=\"simpletable\">\n",
       "<tr>\n",
       "             <td></td>               <th>coef</th>     <th>std err</th>      <th>z</th>      <th>P>|z|</th>  <th>[0.025</th>    <th>0.975]</th>  \n",
       "</tr>\n",
       "<tr>\n",
       "  <th>Intercept</th>              <td>  -32.3472</td> <td>   24.090</td> <td>   -1.343</td> <td> 0.179</td> <td>  -79.562</td> <td>   14.868</td>\n",
       "</tr>\n",
       "<tr>\n",
       "  <th>mean_radius</th>            <td>    0.1303</td> <td>    6.325</td> <td>    0.021</td> <td> 0.984</td> <td>  -12.267</td> <td>   12.528</td>\n",
       "</tr>\n",
       "<tr>\n",
       "  <th>mean_texture</th>           <td>    0.3462</td> <td>    0.098</td> <td>    3.544</td> <td> 0.000</td> <td>    0.155</td> <td>    0.538</td>\n",
       "</tr>\n",
       "<tr>\n",
       "  <th>mean_perimeter</th>         <td>    0.1084</td> <td>    0.833</td> <td>    0.130</td> <td> 0.896</td> <td>   -1.524</td> <td>    1.741</td>\n",
       "</tr>\n",
       "<tr>\n",
       "  <th>mean_area</th>              <td>    0.0049</td> <td>    0.028</td> <td>    0.178</td> <td> 0.859</td> <td>   -0.049</td> <td>    0.059</td>\n",
       "</tr>\n",
       "<tr>\n",
       "  <th>mean_smoothness</th>        <td>   89.2150</td> <td>   57.271</td> <td>    1.558</td> <td> 0.119</td> <td>  -23.033</td> <td>  201.463</td>\n",
       "</tr>\n",
       "<tr>\n",
       "  <th>mean_compactness</th>       <td>  -54.6475</td> <td>   34.924</td> <td>   -1.565</td> <td> 0.118</td> <td> -123.096</td> <td>   13.801</td>\n",
       "</tr>\n",
       "<tr>\n",
       "  <th>mean_concavity</th>         <td>   58.6337</td> <td>   22.215</td> <td>    2.639</td> <td> 0.008</td> <td>   15.092</td> <td>  102.175</td>\n",
       "</tr>\n",
       "<tr>\n",
       "  <th>mean_concave_points</th>    <td>   12.1626</td> <td>   50.925</td> <td>    0.239</td> <td> 0.811</td> <td>  -87.649</td> <td>  111.975</td>\n",
       "</tr>\n",
       "<tr>\n",
       "  <th>mean_symmetry</th>          <td>   -4.9804</td> <td>   22.513</td> <td>   -0.221</td> <td> 0.825</td> <td>  -49.106</td> <td>   39.145</td>\n",
       "</tr>\n",
       "<tr>\n",
       "  <th>mean_fractal_dimension</th> <td>   35.9236</td> <td>  143.062</td> <td>    0.251</td> <td> 0.802</td> <td> -244.473</td> <td>  316.320</td>\n",
       "</tr>\n",
       "</table><br/><br/>Possibly complete quasi-separation: A fraction 0.21 of observations can be<br/>perfectly predicted. This might indicate that there is complete<br/>quasi-separation. In this case some parameters will not be identified."
      ],
      "text/plain": [
       "<class 'statsmodels.iolib.summary.Summary'>\n",
       "\"\"\"\n",
       "                           Logit Regression Results                           \n",
       "==============================================================================\n",
       "Dep. Variable:                  coded   No. Observations:                  285\n",
       "Model:                          Logit   Df Residuals:                      274\n",
       "Method:                           MLE   Df Model:                           10\n",
       "Date:                Fri, 19 Oct 2018   Pseudo R-squ.:                  0.8289\n",
       "Time:                        12:46:28   Log-Likelihood:                -33.142\n",
       "converged:                       True   LL-Null:                       -193.65\n",
       "                                        LLR p-value:                 5.539e-63\n",
       "==========================================================================================\n",
       "                             coef    std err          z      P>|z|      [0.025      0.975]\n",
       "------------------------------------------------------------------------------------------\n",
       "Intercept                -32.3472     24.090     -1.343      0.179     -79.562      14.868\n",
       "mean_radius                0.1303      6.325      0.021      0.984     -12.267      12.528\n",
       "mean_texture               0.3462      0.098      3.544      0.000       0.155       0.538\n",
       "mean_perimeter             0.1084      0.833      0.130      0.896      -1.524       1.741\n",
       "mean_area                  0.0049      0.028      0.178      0.859      -0.049       0.059\n",
       "mean_smoothness           89.2150     57.271      1.558      0.119     -23.033     201.463\n",
       "mean_compactness         -54.6475     34.924     -1.565      0.118    -123.096      13.801\n",
       "mean_concavity            58.6337     22.215      2.639      0.008      15.092     102.175\n",
       "mean_concave_points       12.1626     50.925      0.239      0.811     -87.649     111.975\n",
       "mean_symmetry             -4.9804     22.513     -0.221      0.825     -49.106      39.145\n",
       "mean_fractal_dimension    35.9236    143.062      0.251      0.802    -244.473     316.320\n",
       "==========================================================================================\n",
       "\n",
       "Possibly complete quasi-separation: A fraction 0.21 of observations can be\n",
       "perfectly predicted. This might indicate that there is complete\n",
       "quasi-separation. In this case some parameters will not be identified.\n",
       "\"\"\""
      ]
     },
     "execution_count": 6,
     "metadata": {},
     "output_type": "execute_result"
    }
   ],
   "source": [
    "plain.summary()"
   ]
  },
  {
   "cell_type": "code",
   "execution_count": 8,
   "metadata": {},
   "outputs": [
    {
     "data": {
      "text/plain": [
       "array([[160.,   6.],\n",
       "       [  8., 111.]])"
      ]
     },
     "execution_count": 8,
     "metadata": {},
     "output_type": "execute_result"
    }
   ],
   "source": [
    "plain.pred_table()"
   ]
  },
  {
   "cell_type": "code",
   "execution_count": 9,
   "metadata": {},
   "outputs": [
    {
     "data": {
      "text/plain": [
       "<class 'statsmodels.stats.contrast.WaldTestResults'>\n",
       "                             chi2                 P>chi2  df constraint\n",
       "Intercept                1.803066    0.17934225843636936              1\n",
       "mean_radius              0.000424     0.9835694312254135              1\n",
       "mean_texture            12.560159  0.0003940581289049555              1\n",
       "mean_perimeter           0.016925     0.8964897406809967              1\n",
       "mean_area                0.031738     0.8586048930096482              1\n",
       "mean_smoothness          2.426685    0.11928494383245976              1\n",
       "mean_compactness         2.448516    0.11763600139375732              1\n",
       "mean_concavity           6.966012   0.008307241696339373              1\n",
       "mean_concave_points      0.057040     0.8112366259187516              1\n",
       "mean_symmetry            0.048939     0.8249203848957511              1\n",
       "mean_fractal_dimension   0.063054     0.8017327278452515              1"
      ]
     },
     "execution_count": 9,
     "metadata": {},
     "output_type": "execute_result"
    }
   ],
   "source": [
    "plain.wald_test_terms()"
   ]
  },
  {
   "cell_type": "code",
   "execution_count": 11,
   "metadata": {},
   "outputs": [
    {
     "data": {
      "text/plain": [
       "88.28437233050121"
      ]
     },
     "execution_count": 11,
     "metadata": {},
     "output_type": "execute_result"
    }
   ],
   "source": [
    "plain.aic"
   ]
  },
  {
   "cell_type": "code",
   "execution_count": null,
   "metadata": {},
   "outputs": [],
   "source": [
    "plain2 = logit('coded ~ mean_texture + mean_concavity', train.drop('diagnosis', axis=1)).fit()"
   ]
  }
 ],
 "metadata": {
  "kernelspec": {
   "display_name": "Python 3",
   "language": "python",
   "name": "python3"
  },
  "language_info": {
   "codemirror_mode": {
    "name": "ipython",
    "version": 3
   },
   "file_extension": ".py",
   "mimetype": "text/x-python",
   "name": "python",
   "nbconvert_exporter": "python",
   "pygments_lexer": "ipython3",
   "version": "3.7.0"
  },
  "toc": {
   "base_numbering": 1,
   "nav_menu": {},
   "number_sections": true,
   "sideBar": true,
   "skip_h1_title": true,
   "title_cell": "",
   "title_sidebar": "Contents",
   "toc_cell": false,
   "toc_position": {},
   "toc_section_display": true,
   "toc_window_display": true
  }
 },
 "nbformat": 4,
 "nbformat_minor": 2
}
