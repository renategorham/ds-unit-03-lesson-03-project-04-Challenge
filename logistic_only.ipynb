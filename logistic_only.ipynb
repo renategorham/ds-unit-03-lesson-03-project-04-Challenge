{
 "cells": [
  {
   "cell_type": "markdown",
   "metadata": {},
   "source": [
    "# Classification with logistic regression"
   ]
  },
  {
   "cell_type": "code",
   "execution_count": 1,
   "metadata": {},
   "outputs": [],
   "source": [
    "import pandas as pd\n",
    "import numpy as np\n",
    "import matplotlib.pyplot as plt\n",
    "import lib.train_test as tt\n",
    "import lib.read_csv_to_dict as read\n",
    "from statsmodels.formula.api import logit"
   ]
  },
  {
   "cell_type": "markdown",
   "metadata": {},
   "source": [
    "Read and split data. At the default of 20% to training set there is perfect separation in the data. 50% is used increase the sample size (and ameliorate perfect separation)."
   ]
  },
  {
   "cell_type": "code",
   "execution_count": 2,
   "metadata": {},
   "outputs": [],
   "source": [
    "a = read.csv_to_dict('./data/wdbc.csv')"
   ]
  },
  {
   "cell_type": "code",
   "execution_count": 3,
   "metadata": {},
   "outputs": [],
   "source": [
    "train, test = tt.train_test(a, 'diagnosis', 0.5)"
   ]
  },
  {
   "cell_type": "code",
   "execution_count": 4,
   "metadata": {},
   "outputs": [],
   "source": [
    "cols1 = train.columns.drop('diagnosis')\n",
    "cols2 = test.columns.drop('diagnosis')\n",
    "train[cols1] = train[cols1].apply(pd.to_numeric, errors='coerce')\n",
    "test[cols2] = test[cols2].apply(pd.to_numeric, errors='coerce')"
   ]
  },
  {
   "cell_type": "markdown",
   "metadata": {},
   "source": [
    "##### Full model\n",
    "The full logistic model with all factors."
   ]
  },
  {
   "cell_type": "code",
   "execution_count": 14,
   "metadata": {},
   "outputs": [
    {
     "name": "stdout",
     "output_type": "stream",
     "text": [
      "Optimization terminated successfully.\n",
      "         Current function value: 0.155150\n",
      "         Iterations 10\n"
     ]
    }
   ],
   "source": [
    "plain = logit('coded ~ mean_radius + mean_texture + mean_perimeter'\n",
    "              '+ mean_area + mean_smoothness + mean_compactness'\n",
    "              '+ mean_concavity + mean_concave_points + mean_symmetry'\n",
    "              '+ mean_fractal_dimension', train.drop('diagnosis', axis=1))\\\n",
    "              .fit()\n",
    "probs = np.sort(plain.fittedvalues)\n",
    "model = logit('coded ~ mean_radius + mean_texture + mean_perimeter'\n",
    "              '+ mean_area + mean_smoothness + mean_compactness'\n",
    "              '+ mean_concavity + mean_concave_points + mean_symmetry'\n",
    "              '+ mean_fractal_dimension', train.drop('diagnosis', axis=1)).cdf(probs)"
   ]
  },
  {
   "cell_type": "code",
   "execution_count": 15,
   "metadata": {},
   "outputs": [
    {
     "data": {
      "text/html": [
       "<table class=\"simpletable\">\n",
       "<tr>\n",
       "        <td>Model:</td>              <td>Logit</td>      <td>Pseudo R-squared:</td>    <td>0.766</td>  \n",
       "</tr>\n",
       "<tr>\n",
       "  <td>Dependent Variable:</td>       <td>coded</td>            <td>AIC:</td>         <td>110.4358</td> \n",
       "</tr>\n",
       "<tr>\n",
       "         <td>Date:</td>        <td>2018-10-20 14:05</td>       <td>BIC:</td>         <td>150.6131</td> \n",
       "</tr>\n",
       "<tr>\n",
       "   <td>No. Observations:</td>         <td>285</td>        <td>Log-Likelihood:</td>    <td>-44.218</td> \n",
       "</tr>\n",
       "<tr>\n",
       "       <td>Df Model:</td>             <td>10</td>            <td>LL-Null:</td>        <td>-189.11</td> \n",
       "</tr>\n",
       "<tr>\n",
       "     <td>Df Residuals:</td>           <td>274</td>         <td>LLR p-value:</td>    <td>2.2381e-56</td>\n",
       "</tr>\n",
       "<tr>\n",
       "      <td>Converged:</td>           <td>1.0000</td>           <td>Scale:</td>         <td>1.0000</td>  \n",
       "</tr>\n",
       "<tr>\n",
       "    <td>No. Iterations:</td>        <td>10.0000</td>             <td></td>               <td></td>     \n",
       "</tr>\n",
       "</table>\n",
       "<table class=\"simpletable\">\n",
       "<tr>\n",
       "             <td></td>              <th>Coef.</th>  <th>Std.Err.</th>    <th>z</th>     <th>P>|z|</th>  <th>[0.025</th>    <th>0.975]</th> \n",
       "</tr>\n",
       "<tr>\n",
       "  <th>Intercept</th>              <td>-11.6525</td>  <td>14.8739</td> <td>-0.7834</td> <td>0.4334</td> <td>-40.8047</td>   <td>17.4997</td>\n",
       "</tr>\n",
       "<tr>\n",
       "  <th>mean_radius</th>             <td>-2.7240</td>  <td>5.3576</td>  <td>-0.5084</td> <td>0.6111</td> <td>-13.2247</td>   <td>7.7767</td> \n",
       "</tr>\n",
       "<tr>\n",
       "  <th>mean_texture</th>            <td>0.3140</td>   <td>0.0882</td>  <td>3.5612</td>  <td>0.0004</td>  <td>0.1412</td>    <td>0.4868</td> \n",
       "</tr>\n",
       "<tr>\n",
       "  <th>mean_perimeter</th>          <td>0.1455</td>   <td>0.7543</td>  <td>0.1929</td>  <td>0.8470</td>  <td>-1.3328</td>   <td>1.6238</td> \n",
       "</tr>\n",
       "<tr>\n",
       "  <th>mean_area</th>               <td>0.0306</td>   <td>0.0187</td>  <td>1.6360</td>  <td>0.1018</td>  <td>-0.0061</td>   <td>0.0672</td> \n",
       "</tr>\n",
       "<tr>\n",
       "  <th>mean_smoothness</th>         <td>81.9573</td>  <td>38.9354</td> <td>2.1050</td>  <td>0.0353</td>  <td>5.6452</td>   <td>158.2693</td>\n",
       "</tr>\n",
       "<tr>\n",
       "  <th>mean_compactness</th>       <td>-18.1675</td>  <td>22.6455</td> <td>-0.8023</td> <td>0.4224</td> <td>-62.5518</td>   <td>26.2168</td>\n",
       "</tr>\n",
       "<tr>\n",
       "  <th>mean_concavity</th>          <td>28.1274</td>  <td>14.8179</td> <td>1.8982</td>  <td>0.0577</td>  <td>-0.9151</td>   <td>57.1699</td>\n",
       "</tr>\n",
       "<tr>\n",
       "  <th>mean_concave_points</th>     <td>26.4135</td>  <td>38.4656</td> <td>0.6867</td>  <td>0.4923</td> <td>-48.9777</td>  <td>101.8048</td>\n",
       "</tr>\n",
       "<tr>\n",
       "  <th>mean_symmetry</th>           <td>18.7322</td>  <td>12.5192</td> <td>1.4963</td>  <td>0.1346</td>  <td>-5.8050</td>   <td>43.2695</td>\n",
       "</tr>\n",
       "<tr>\n",
       "  <th>mean_fractal_dimension</th> <td>-31.4010</td> <td>100.5305</td> <td>-0.3124</td> <td>0.7548</td> <td>-228.4372</td> <td>165.6351</td>\n",
       "</tr>\n",
       "</table>"
      ],
      "text/plain": [
       "<class 'statsmodels.iolib.summary2.Summary'>\n",
       "\"\"\"\n",
       "                              Results: Logit\n",
       "==========================================================================\n",
       "Model:                 Logit               Pseudo R-squared:    0.766     \n",
       "Dependent Variable:    coded               AIC:                 110.4358  \n",
       "Date:                  2018-10-20 14:05    BIC:                 150.6131  \n",
       "No. Observations:      285                 Log-Likelihood:      -44.218   \n",
       "Df Model:              10                  LL-Null:             -189.11   \n",
       "Df Residuals:          274                 LLR p-value:         2.2381e-56\n",
       "Converged:             1.0000              Scale:               1.0000    \n",
       "No. Iterations:        10.0000                                            \n",
       "--------------------------------------------------------------------------\n",
       "                        Coef.   Std.Err.    z    P>|z|    [0.025   0.975] \n",
       "--------------------------------------------------------------------------\n",
       "Intercept              -11.6525  14.8739 -0.7834 0.4334  -40.8047  17.4997\n",
       "mean_radius             -2.7240   5.3576 -0.5084 0.6111  -13.2247   7.7767\n",
       "mean_texture             0.3140   0.0882  3.5612 0.0004    0.1412   0.4868\n",
       "mean_perimeter           0.1455   0.7543  0.1929 0.8470   -1.3328   1.6238\n",
       "mean_area                0.0306   0.0187  1.6360 0.1018   -0.0061   0.0672\n",
       "mean_smoothness         81.9573  38.9354  2.1050 0.0353    5.6452 158.2693\n",
       "mean_compactness       -18.1675  22.6455 -0.8023 0.4224  -62.5518  26.2168\n",
       "mean_concavity          28.1274  14.8179  1.8982 0.0577   -0.9151  57.1699\n",
       "mean_concave_points     26.4135  38.4656  0.6867 0.4923  -48.9777 101.8048\n",
       "mean_symmetry           18.7322  12.5192  1.4963 0.1346   -5.8050  43.2695\n",
       "mean_fractal_dimension -31.4010 100.5305 -0.3124 0.7548 -228.4372 165.6351\n",
       "==========================================================================\n",
       "\n",
       "\"\"\""
      ]
     },
     "execution_count": 15,
     "metadata": {},
     "output_type": "execute_result"
    }
   ],
   "source": [
    "plain.summary2()"
   ]
  },
  {
   "cell_type": "code",
   "execution_count": 7,
   "metadata": {},
   "outputs": [],
   "source": [
    "# plain.pred_table()"
   ]
  },
  {
   "cell_type": "code",
   "execution_count": 8,
   "metadata": {},
   "outputs": [],
   "source": [
    "# plain.wald_test_terms()\n",
    "# np.exp(plain.params)"
   ]
  },
  {
   "cell_type": "code",
   "execution_count": 9,
   "metadata": {},
   "outputs": [
    {
     "name": "stdout",
     "output_type": "stream",
     "text": [
      "Optimization terminated successfully.\n",
      "         Current function value: 0.164548\n",
      "         Iterations 9\n"
     ]
    }
   ],
   "source": [
    "plain2 = logit('coded ~ mean_texture + mean_area' \n",
    "               '+ mean_smoothness + mean_concavity ', \n",
    "               train.drop('diagnosis', axis=1)).fit()\n",
    "probs2 = np.sort(plain2.fittedvalues)\n",
    "model2 = logit('coded ~ mean_texture + mean_area' \n",
    "               '+ mean_smoothness + mean_concavity', \n",
    "               train.drop('diagnosis', axis=1)).cdf(probs2)"
   ]
  },
  {
   "cell_type": "markdown",
   "metadata": {},
   "source": [
    "##### Reduced model"
   ]
  },
  {
   "cell_type": "code",
   "execution_count": 10,
   "metadata": {},
   "outputs": [
    {
     "data": {
      "text/html": [
       "<table class=\"simpletable\">\n",
       "<tr>\n",
       "        <td>Model:</td>              <td>Logit</td>      <td>Pseudo R-squared:</td>    <td>0.752</td>  \n",
       "</tr>\n",
       "<tr>\n",
       "  <td>Dependent Variable:</td>       <td>coded</td>            <td>AIC:</td>         <td>103.7926</td> \n",
       "</tr>\n",
       "<tr>\n",
       "         <td>Date:</td>        <td>2018-10-20 12:06</td>       <td>BIC:</td>         <td>122.0551</td> \n",
       "</tr>\n",
       "<tr>\n",
       "   <td>No. Observations:</td>         <td>285</td>        <td>Log-Likelihood:</td>    <td>-46.896</td> \n",
       "</tr>\n",
       "<tr>\n",
       "       <td>Df Model:</td>              <td>4</td>            <td>LL-Null:</td>        <td>-189.11</td> \n",
       "</tr>\n",
       "<tr>\n",
       "     <td>Df Residuals:</td>           <td>280</td>         <td>LLR p-value:</td>    <td>2.4720e-60</td>\n",
       "</tr>\n",
       "<tr>\n",
       "      <td>Converged:</td>           <td>1.0000</td>           <td>Scale:</td>         <td>1.0000</td>  \n",
       "</tr>\n",
       "<tr>\n",
       "    <td>No. Iterations:</td>        <td>9.0000</td>              <td></td>               <td></td>     \n",
       "</tr>\n",
       "</table>\n",
       "<table class=\"simpletable\">\n",
       "<tr>\n",
       "         <td></td>           <th>Coef.</th>  <th>Std.Err.</th>    <th>z</th>     <th>P>|z|</th>  <th>[0.025</th>   <th>0.975]</th> \n",
       "</tr>\n",
       "<tr>\n",
       "  <th>Intercept</th>       <td>-23.0329</td>  <td>4.7414</td>  <td>-4.8579</td> <td>0.0000</td> <td>-32.3258</td> <td>-13.7400</td>\n",
       "</tr>\n",
       "<tr>\n",
       "  <th>mean_texture</th>     <td>0.3247</td>   <td>0.0863</td>  <td>3.7606</td>  <td>0.0002</td>  <td>0.1555</td>   <td>0.4939</td> \n",
       "</tr>\n",
       "<tr>\n",
       "  <th>mean_area</th>        <td>0.0112</td>   <td>0.0020</td>  <td>5.7425</td>  <td>0.0000</td>  <td>0.0074</td>   <td>0.0151</td> \n",
       "</tr>\n",
       "<tr>\n",
       "  <th>mean_smoothness</th>  <td>70.2750</td>  <td>29.0158</td> <td>2.4220</td>  <td>0.0154</td>  <td>13.4052</td> <td>127.1449</td>\n",
       "</tr>\n",
       "<tr>\n",
       "  <th>mean_concavity</th>   <td>28.9411</td>  <td>6.4945</td>  <td>4.4562</td>  <td>0.0000</td>  <td>16.2120</td>  <td>41.6702</td>\n",
       "</tr>\n",
       "</table>"
      ],
      "text/plain": [
       "<class 'statsmodels.iolib.summary2.Summary'>\n",
       "\"\"\"\n",
       "                          Results: Logit\n",
       "==================================================================\n",
       "Model:               Logit            Pseudo R-squared: 0.752     \n",
       "Dependent Variable:  coded            AIC:              103.7926  \n",
       "Date:                2018-10-20 12:06 BIC:              122.0551  \n",
       "No. Observations:    285              Log-Likelihood:   -46.896   \n",
       "Df Model:            4                LL-Null:          -189.11   \n",
       "Df Residuals:        280              LLR p-value:      2.4720e-60\n",
       "Converged:           1.0000           Scale:            1.0000    \n",
       "No. Iterations:      9.0000                                       \n",
       "------------------------------------------------------------------\n",
       "                 Coef.   Std.Err.    z    P>|z|   [0.025   0.975] \n",
       "------------------------------------------------------------------\n",
       "Intercept       -23.0329   4.7414 -4.8579 0.0000 -32.3258 -13.7400\n",
       "mean_texture      0.3247   0.0863  3.7606 0.0002   0.1555   0.4939\n",
       "mean_area         0.0112   0.0020  5.7425 0.0000   0.0074   0.0151\n",
       "mean_smoothness  70.2750  29.0158  2.4220 0.0154  13.4052 127.1449\n",
       "mean_concavity   28.9411   6.4945  4.4562 0.0000  16.2120  41.6702\n",
       "==================================================================\n",
       "\n",
       "\"\"\""
      ]
     },
     "execution_count": 10,
     "metadata": {},
     "output_type": "execute_result"
    }
   ],
   "source": [
    "plain2.summary2()"
   ]
  },
  {
   "cell_type": "code",
   "execution_count": 11,
   "metadata": {},
   "outputs": [
    {
     "data": {
      "image/png": "[encoded data removed]",
      "text/plain": [
       "<Figure size 1080x360 with 2 Axes>"
      ]
     },
     "metadata": {},
     "output_type": "display_data"
    }
   ],
   "source": [
    "jitter = np.random.randn(285)\n",
    "plt.figure(figsize=(15,5))\n",
    "plt.subplot(121)\n",
    "plt.scatter(plain.fittedvalues, train['coded'] + jitter/85, c='b')\n",
    "plt.grid()\n",
    "plt.plot(probs, model, 'r--')\n",
    "plt.subplot(122)\n",
    "plt.scatter(plain2.fittedvalues, train['coded'] + jitter/85, c='b')\n",
    "plt.grid()\n",
    "plt.plot(probs2, model2, 'r--')\n",
    "\n",
    "plt.show()"
   ]
  },
  {
   "cell_type": "code",
   "execution_count": null,
   "metadata": {},
   "outputs": [],
   "source": []
  },
  {
   "cell_type": "code",
   "execution_count": null,
   "metadata": {},
   "outputs": [],
   "source": []
  }
 ],
 "metadata": {
  "kernelspec": {
   "display_name": "Python 3",
   "language": "python",
   "name": "python3"
  },
  "language_info": {
   "codemirror_mode": {
    "name": "ipython",
    "version": 3
   },
   "file_extension": ".py",
   "mimetype": "text/x-python",
   "name": "python",
   "nbconvert_exporter": "python",
   "pygments_lexer": "ipython3",
   "version": "3.7.0"
  },
  "toc": {
   "base_numbering": 1,
   "nav_menu": {},
   "number_sections": true,
   "sideBar": true,
   "skip_h1_title": true,
   "title_cell": "",
   "title_sidebar": "Contents",
   "toc_cell": false,
   "toc_position": {},
   "toc_section_display": true,
   "toc_window_display": true
  }
 },
 "nbformat": 4,
 "nbformat_minor": 2
}
